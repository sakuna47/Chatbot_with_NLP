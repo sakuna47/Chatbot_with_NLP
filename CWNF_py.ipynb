{
  "nbformat": 4,
  "nbformat_minor": 0,
  "metadata": {
    "colab": {
      "provenance": [],
      "authorship_tag": "ABX9TyMgLTYd5srqFVGjOf8bOTg0",
      "include_colab_link": true
    },
    "kernelspec": {
      "name": "python3",
      "display_name": "Python 3"
    },
    "language_info": {
      "name": "python"
    }
  },
  "cells": [
    {
      "cell_type": "markdown",
      "metadata": {
        "id": "view-in-github",
        "colab_type": "text"
      },
      "source": [
        "<a href=\"https://colab.research.google.com/github/sakuna47/Chatbot_with_NLP/blob/FrontEnd/CWNF_py.ipynb\" target=\"_parent\"><img src=\"https://colab.research.google.com/assets/colab-badge.svg\" alt=\"Open In Colab\"/></a>"
      ]
    },
    {
      "cell_type": "code",
      "execution_count": null,
      "metadata": {
        "id": "GPp3Gev3VZAP"
      },
      "outputs": [],
      "source": [
        "import streamlit as st\n",
        "from transformers import GPT2LMHeadModel, GPT2Tokenizer\n",
        "import random\n",
        "import json\n",
        "import nltk\n",
        "\n",
        "# Initialize the tokenizer and model\n",
        "tokenizer = GPT2Tokenizer.from_pretrained(\"gpt2\")\n",
        "model = GPT2LMHeadModel.from_pretrained(\"gpt2\")\n",
        "\n",
        "# Title of the app\n",
        "st.title(\"Chatbot with Rule-Based and Deep Learning Models\")\n",
        "\n",
        "# Sidebar to select chatbot type\n",
        "chatbot_type = st.sidebar.radio(\"Select Chatbot Type\", [\"Rule-Based\", \"Deep Learning\"])\n",
        "\n",
        "# Initialize session state to store chat history\n",
        "if \"chat_history\" not in st.session_state:\n",
        "    st.session_state.chat_history = []\n",
        "\n",
        "# Function to display chat history\n",
        "def display_chat_history():\n",
        "    for message in st.session_state.chat_history:\n",
        "        st.write(f\"**You:** {message['user']}\")\n",
        "        st.write(f\"**Chatbot:** {message['bot']}\")\n",
        "        st.write(\"---\")\n",
        "\n",
        "# Function for the rule-based chatbot\n",
        "def get_response(user_input):\n",
        "    for intent in data[\"intents\"]:\n",
        "        for pattern in intent[\"patterns\"]:\n",
        "            if pattern.lower() in user_input.lower():\n",
        "                return random.choice(intent[\"responses\"])\n",
        "    return \"I'm sorry, I don't understand that.\"\n",
        "\n",
        "# Function to generate a response using the deep learning model (GPT-2)\n",
        "def generate_response(user_input):\n",
        "    # Tokenize the user input\n",
        "    inputs = tokenizer.encode(user_input + tokenizer.eos_token, return_tensors=\"pt\")\n",
        "\n",
        "    # Generate a response from the model\n",
        "    outputs = model.generate(inputs, max_length=100, num_return_sequences=1, no_repeat_ngram_size=2, top_p=0.95, temperature=0.7)\n",
        "\n",
        "    # Decode the generated tokens to a string\n",
        "    response = tokenizer.decode(outputs[0], skip_special_tokens=True)\n",
        "\n",
        "    return response\n",
        "\n",
        "# Backend Function to Handle Chat\n",
        "def chat_backend(user_input, chatbot_type=\"rule_based\"):\n",
        "    if chatbot_type == \"rule_based\":\n",
        "        return get_response(user_input)\n",
        "    elif chatbot_type == \"deep_learning\":\n",
        "        return generate_response(user_input)\n",
        "    else:\n",
        "        return \"Invalid chatbot type selected.\"\n",
        "\n",
        "# Chat input\n",
        "user_input = st.text_input(\"You: \", \"\")\n",
        "\n",
        "# When the user submits a message\n",
        "if user_input:\n",
        "    # Get the chatbot response based on the selected type\n",
        "    if chatbot_type == \"Rule-Based\":\n",
        "        bot_response = chat_backend(user_input, chatbot_type=\"rule_based\")\n",
        "    else:\n",
        "        bot_response = chat_backend(user_input, chatbot_type=\"deep_learning\")\n",
        "\n",
        "    # Add the conversation to the chat history\n",
        "    st.session_state.chat_history.append({\"user\": user_input, \"bot\": bot_response})\n",
        "\n",
        "    # Clear the input box\n",
        "    st.text_input(\"You: \", \"\", key=\"input\")\n",
        "\n",
        "# Display the chat history\n",
        "display_chat_history()\n"
      ]
    }
  ]
}