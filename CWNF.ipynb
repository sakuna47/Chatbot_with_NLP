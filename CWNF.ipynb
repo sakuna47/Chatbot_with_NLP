{
  "nbformat": 4,
  "nbformat_minor": 0,
  "metadata": {
    "colab": {
      "provenance": [],
      "authorship_tag": "ABX9TyNbosxrUqbNjahFvNEKlw/m",
      "include_colab_link": true
    },
    "kernelspec": {
      "name": "python3",
      "display_name": "Python 3"
    },
    "language_info": {
      "name": "python"
    }
  },
  "cells": [
    {
      "cell_type": "markdown",
      "metadata": {
        "id": "view-in-github",
        "colab_type": "text"
      },
      "source": [
        "<a href=\"https://colab.research.google.com/github/sakuna47/Chatbot_with_NLP/blob/FrontEnd/CWNF.ipynb\" target=\"_parent\"><img src=\"https://colab.research.google.com/assets/colab-badge.svg\" alt=\"Open In Colab\"/></a>"
      ]
    },
    {
      "cell_type": "code",
      "execution_count": null,
      "metadata": {
        "id": "GPp3Gev3VZAP"
      },
      "outputs": [],
      "source": [
        "import streamlit as st\n",
        "\n",
        "# Title of the app\n",
        "st.title(\"Chatbot with Rule-Based and Deep Learning Models\")\n",
        "\n",
        "# Sidebar to select chatbot type\n",
        "chatbot_type = st.sidebar.radio(\"Select Chatbot Type\", [\"Rule-Based\", \"Deep Learning\"])\n",
        "\n",
        "# Initialize session state to store chat history\n",
        "if \"chat_history\" not in st.session_state:\n",
        "    st.session_state.chat_history = []\n"
      ]
    }
  ]
}